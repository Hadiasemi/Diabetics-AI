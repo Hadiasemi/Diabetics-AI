{
 "cells": [
  {
   "cell_type": "markdown",
   "metadata": {},
   "source": [
    "# Pandas Library\n",
    "\n",
    "Pandas is an open source Python package that provides numerous tools for data analysis. The package comes with several data structures that can be used for many different data manipulation tasks. It also has a variety of methods that can be invoked for data analysis, which comes in handy when working on data science and machine learning problems in Python.\n",
    "\n",
    "In this tutorial I will use the Johns Hopkins data set show how we can use pandas library."
   ]
  },
  {
   "cell_type": "markdown",
   "metadata": {},
   "source": [
    "## Importing pandas the library:\n"
   ]
  },
  {
   "cell_type": "code",
   "execution_count": 1,
   "metadata": {},
   "outputs": [],
   "source": [
    "import pandas as pd"
   ]
  },
  {
   "cell_type": "markdown",
   "metadata": {},
   "source": [
    "For reading the **CSV** file we need to use ``` pd.read_csv(\"name of the file.csv\", header=None, nrows=5)```"
   ]
  },
  {
   "cell_type": "code",
   "execution_count": 2,
   "metadata": {},
   "outputs": [],
   "source": [
    "covid_daily_report = pd.read_csv( \"https://raw.githubusercontent.com/CSSEGISandData/COVID-19/master/csse_covid_19_data/csse_covid_19_daily_reports_us/04-12-2020.csv\")"
   ]
  },
  {
   "cell_type": "markdown",
   "metadata": {},
   "source": [
    "For **backing up** your dataset we can use ```covid_daily_report.to_csv(\"covid_daily_backup.csv\", index=False)```"
   ]
  },
  {
   "cell_type": "code",
   "execution_count": 3,
   "metadata": {},
   "outputs": [],
   "source": [
    "covid_daily_report.to_csv(\"covid_daily_backup.csv\", index=False)\n",
    "\n",
    "covid_daily_local = pd.read_csv(\"covid_daily_backup.csv\")"
   ]
  },
  {
   "cell_type": "markdown",
   "metadata": {},
   "source": [
    "To get information about our data set, we can use **covid_daily_local.head()**. This gives the first five data set."
   ]
  },
  {
   "cell_type": "code",
   "execution_count": 4,
   "metadata": {},
   "outputs": [
    {
     "data": {
      "text/html": [
       "<div>\n",
       "<style scoped>\n",
       "    .dataframe tbody tr th:only-of-type {\n",
       "        vertical-align: middle;\n",
       "    }\n",
       "\n",
       "    .dataframe tbody tr th {\n",
       "        vertical-align: top;\n",
       "    }\n",
       "\n",
       "    .dataframe thead th {\n",
       "        text-align: right;\n",
       "    }\n",
       "</style>\n",
       "<table border=\"1\" class=\"dataframe\">\n",
       "  <thead>\n",
       "    <tr style=\"text-align: right;\">\n",
       "      <th></th>\n",
       "      <th>Province_State</th>\n",
       "      <th>Country_Region</th>\n",
       "      <th>Last_Update</th>\n",
       "      <th>Lat</th>\n",
       "      <th>Long_</th>\n",
       "      <th>Confirmed</th>\n",
       "      <th>Deaths</th>\n",
       "      <th>Recovered</th>\n",
       "      <th>Active</th>\n",
       "      <th>FIPS</th>\n",
       "      <th>Incident_Rate</th>\n",
       "      <th>People_Tested</th>\n",
       "      <th>People_Hospitalized</th>\n",
       "      <th>Mortality_Rate</th>\n",
       "      <th>UID</th>\n",
       "      <th>ISO3</th>\n",
       "      <th>Testing_Rate</th>\n",
       "      <th>Hospitalization_Rate</th>\n",
       "    </tr>\n",
       "  </thead>\n",
       "  <tbody>\n",
       "    <tr>\n",
       "      <th>0</th>\n",
       "      <td>Alabama</td>\n",
       "      <td>US</td>\n",
       "      <td>2020-04-12 23:18:15</td>\n",
       "      <td>32.3182</td>\n",
       "      <td>-86.9023</td>\n",
       "      <td>3667</td>\n",
       "      <td>93</td>\n",
       "      <td>NaN</td>\n",
       "      <td>3470</td>\n",
       "      <td>1.0</td>\n",
       "      <td>75.988020</td>\n",
       "      <td>21583.0</td>\n",
       "      <td>437.0</td>\n",
       "      <td>2.610160</td>\n",
       "      <td>84000001</td>\n",
       "      <td>USA</td>\n",
       "      <td>460.300152</td>\n",
       "      <td>12.264945</td>\n",
       "    </tr>\n",
       "    <tr>\n",
       "      <th>1</th>\n",
       "      <td>Alaska</td>\n",
       "      <td>US</td>\n",
       "      <td>2020-04-12 23:18:15</td>\n",
       "      <td>61.3707</td>\n",
       "      <td>-152.4044</td>\n",
       "      <td>272</td>\n",
       "      <td>8</td>\n",
       "      <td>66.0</td>\n",
       "      <td>264</td>\n",
       "      <td>2.0</td>\n",
       "      <td>45.504049</td>\n",
       "      <td>8038.0</td>\n",
       "      <td>31.0</td>\n",
       "      <td>2.941176</td>\n",
       "      <td>84000002</td>\n",
       "      <td>USA</td>\n",
       "      <td>1344.711576</td>\n",
       "      <td>11.397059</td>\n",
       "    </tr>\n",
       "    <tr>\n",
       "      <th>2</th>\n",
       "      <td>Arizona</td>\n",
       "      <td>US</td>\n",
       "      <td>2020-04-12 23:18:15</td>\n",
       "      <td>33.7298</td>\n",
       "      <td>-111.4312</td>\n",
       "      <td>3542</td>\n",
       "      <td>115</td>\n",
       "      <td>NaN</td>\n",
       "      <td>3427</td>\n",
       "      <td>4.0</td>\n",
       "      <td>48.662422</td>\n",
       "      <td>42109.0</td>\n",
       "      <td>NaN</td>\n",
       "      <td>3.246753</td>\n",
       "      <td>84000004</td>\n",
       "      <td>USA</td>\n",
       "      <td>578.522286</td>\n",
       "      <td>NaN</td>\n",
       "    </tr>\n",
       "    <tr>\n",
       "      <th>3</th>\n",
       "      <td>Arkansas</td>\n",
       "      <td>US</td>\n",
       "      <td>2020-04-12 23:18:15</td>\n",
       "      <td>34.9697</td>\n",
       "      <td>-92.3731</td>\n",
       "      <td>1280</td>\n",
       "      <td>27</td>\n",
       "      <td>367.0</td>\n",
       "      <td>1253</td>\n",
       "      <td>5.0</td>\n",
       "      <td>49.439423</td>\n",
       "      <td>19722.0</td>\n",
       "      <td>130.0</td>\n",
       "      <td>2.109375</td>\n",
       "      <td>84000005</td>\n",
       "      <td>USA</td>\n",
       "      <td>761.753354</td>\n",
       "      <td>10.156250</td>\n",
       "    </tr>\n",
       "    <tr>\n",
       "      <th>4</th>\n",
       "      <td>California</td>\n",
       "      <td>US</td>\n",
       "      <td>2020-04-12 23:18:15</td>\n",
       "      <td>36.1162</td>\n",
       "      <td>-119.6816</td>\n",
       "      <td>22795</td>\n",
       "      <td>640</td>\n",
       "      <td>NaN</td>\n",
       "      <td>22155</td>\n",
       "      <td>6.0</td>\n",
       "      <td>58.137726</td>\n",
       "      <td>190328.0</td>\n",
       "      <td>5234.0</td>\n",
       "      <td>2.812020</td>\n",
       "      <td>84000006</td>\n",
       "      <td>USA</td>\n",
       "      <td>485.423869</td>\n",
       "      <td>22.961176</td>\n",
       "    </tr>\n",
       "  </tbody>\n",
       "</table>\n",
       "</div>"
      ],
      "text/plain": [
       "  Province_State Country_Region          Last_Update      Lat     Long_  \\\n",
       "0        Alabama             US  2020-04-12 23:18:15  32.3182  -86.9023   \n",
       "1         Alaska             US  2020-04-12 23:18:15  61.3707 -152.4044   \n",
       "2        Arizona             US  2020-04-12 23:18:15  33.7298 -111.4312   \n",
       "3       Arkansas             US  2020-04-12 23:18:15  34.9697  -92.3731   \n",
       "4     California             US  2020-04-12 23:18:15  36.1162 -119.6816   \n",
       "\n",
       "   Confirmed  Deaths  Recovered  Active  FIPS  Incident_Rate  People_Tested  \\\n",
       "0       3667      93        NaN    3470   1.0      75.988020        21583.0   \n",
       "1        272       8       66.0     264   2.0      45.504049         8038.0   \n",
       "2       3542     115        NaN    3427   4.0      48.662422        42109.0   \n",
       "3       1280      27      367.0    1253   5.0      49.439423        19722.0   \n",
       "4      22795     640        NaN   22155   6.0      58.137726       190328.0   \n",
       "\n",
       "   People_Hospitalized  Mortality_Rate       UID ISO3  Testing_Rate  \\\n",
       "0                437.0        2.610160  84000001  USA    460.300152   \n",
       "1                 31.0        2.941176  84000002  USA   1344.711576   \n",
       "2                  NaN        3.246753  84000004  USA    578.522286   \n",
       "3                130.0        2.109375  84000005  USA    761.753354   \n",
       "4               5234.0        2.812020  84000006  USA    485.423869   \n",
       "\n",
       "   Hospitalization_Rate  \n",
       "0             12.264945  \n",
       "1             11.397059  \n",
       "2                   NaN  \n",
       "3             10.156250  \n",
       "4             22.961176  "
      ]
     },
     "execution_count": 4,
     "metadata": {},
     "output_type": "execute_result"
    }
   ],
   "source": [
    "covid_daily_local.head()"
   ]
  },
  {
   "cell_type": "markdown",
   "metadata": {},
   "source": [
    "Getting the **info** about our data such as __type__ and the **label** of columns"
   ]
  },
  {
   "cell_type": "code",
   "execution_count": 5,
   "metadata": {},
   "outputs": [
    {
     "name": "stdout",
     "output_type": "stream",
     "text": [
      "<class 'pandas.core.frame.DataFrame'>\n",
      "RangeIndex: 59 entries, 0 to 58\n",
      "Data columns (total 18 columns):\n",
      " #   Column                Non-Null Count  Dtype  \n",
      "---  ------                --------------  -----  \n",
      " 0   Province_State        59 non-null     object \n",
      " 1   Country_Region        59 non-null     object \n",
      " 2   Last_Update           56 non-null     object \n",
      " 3   Lat                   56 non-null     float64\n",
      " 4   Long_                 56 non-null     float64\n",
      " 5   Confirmed             59 non-null     int64  \n",
      " 6   Deaths                59 non-null     int64  \n",
      " 7   Recovered             29 non-null     float64\n",
      " 8   Active                59 non-null     int64  \n",
      " 9   FIPS                  57 non-null     float64\n",
      " 10  Incident_Rate         56 non-null     float64\n",
      " 11  People_Tested         56 non-null     float64\n",
      " 12  People_Hospitalized   49 non-null     float64\n",
      " 13  Mortality_Rate        57 non-null     float64\n",
      " 14  UID                   59 non-null     int64  \n",
      " 15  ISO3                  59 non-null     object \n",
      " 16  Testing_Rate          56 non-null     float64\n",
      " 17  Hospitalization_Rate  49 non-null     float64\n",
      "dtypes: float64(10), int64(4), object(4)\n",
      "memory usage: 8.4+ KB\n"
     ]
    }
   ],
   "source": [
    "covid_daily_local.info()"
   ]
  },
  {
   "cell_type": "markdown",
   "metadata": {},
   "source": [
    "## Shows the label of each columns"
   ]
  },
  {
   "cell_type": "code",
   "execution_count": 6,
   "metadata": {},
   "outputs": [
    {
     "data": {
      "text/plain": [
       "Index(['Province_State', 'Country_Region', 'Last_Update', 'Lat', 'Long_',\n",
       "       'Confirmed', 'Deaths', 'Recovered', 'Active', 'FIPS', 'Incident_Rate',\n",
       "       'People_Tested', 'People_Hospitalized', 'Mortality_Rate', 'UID', 'ISO3',\n",
       "       'Testing_Rate', 'Hospitalization_Rate'],\n",
       "      dtype='object')"
      ]
     },
     "execution_count": 6,
     "metadata": {},
     "output_type": "execute_result"
    }
   ],
   "source": [
    "covid_daily_local.columns"
   ]
  },
  {
   "cell_type": "markdown",
   "metadata": {},
   "source": [
    "## Get data base on coloumns name:\n",
    "We can use the **bracket** and put label name to get data of that columns"
   ]
  },
  {
   "cell_type": "code",
   "execution_count": 7,
   "metadata": {},
   "outputs": [
    {
     "data": {
      "text/html": [
       "<div>\n",
       "<style scoped>\n",
       "    .dataframe tbody tr th:only-of-type {\n",
       "        vertical-align: middle;\n",
       "    }\n",
       "\n",
       "    .dataframe tbody tr th {\n",
       "        vertical-align: top;\n",
       "    }\n",
       "\n",
       "    .dataframe thead th {\n",
       "        text-align: right;\n",
       "    }\n",
       "</style>\n",
       "<table border=\"1\" class=\"dataframe\">\n",
       "  <thead>\n",
       "    <tr style=\"text-align: right;\">\n",
       "      <th></th>\n",
       "      <th>People_Hospitalized</th>\n",
       "    </tr>\n",
       "  </thead>\n",
       "  <tbody>\n",
       "    <tr>\n",
       "      <th>0</th>\n",
       "      <td>437.0</td>\n",
       "    </tr>\n",
       "    <tr>\n",
       "      <th>1</th>\n",
       "      <td>31.0</td>\n",
       "    </tr>\n",
       "    <tr>\n",
       "      <th>2</th>\n",
       "      <td>NaN</td>\n",
       "    </tr>\n",
       "    <tr>\n",
       "      <th>3</th>\n",
       "      <td>130.0</td>\n",
       "    </tr>\n",
       "    <tr>\n",
       "      <th>4</th>\n",
       "      <td>5234.0</td>\n",
       "    </tr>\n",
       "  </tbody>\n",
       "</table>\n",
       "</div>"
      ],
      "text/plain": [
       "   People_Hospitalized\n",
       "0                437.0\n",
       "1                 31.0\n",
       "2                  NaN\n",
       "3                130.0\n",
       "4               5234.0"
      ]
     },
     "execution_count": 7,
     "metadata": {},
     "output_type": "execute_result"
    }
   ],
   "source": [
    "Hospitalized = covid_daily_local[[\"People_Hospitalized\"]] # Get one cloumns \n",
    "# Hospitalized=Hospitalized.dropna(how='all')\n",
    "Hospitalized.head()"
   ]
  },
  {
   "cell_type": "code",
   "execution_count": 8,
   "metadata": {},
   "outputs": [
    {
     "data": {
      "text/html": [
       "<div>\n",
       "<style scoped>\n",
       "    .dataframe tbody tr th:only-of-type {\n",
       "        vertical-align: middle;\n",
       "    }\n",
       "\n",
       "    .dataframe tbody tr th {\n",
       "        vertical-align: top;\n",
       "    }\n",
       "\n",
       "    .dataframe thead th {\n",
       "        text-align: right;\n",
       "    }\n",
       "</style>\n",
       "<table border=\"1\" class=\"dataframe\">\n",
       "  <thead>\n",
       "    <tr style=\"text-align: right;\">\n",
       "      <th></th>\n",
       "      <th>Province_State</th>\n",
       "      <th>Deaths</th>\n",
       "    </tr>\n",
       "  </thead>\n",
       "  <tbody>\n",
       "    <tr>\n",
       "      <th>0</th>\n",
       "      <td>Alabama</td>\n",
       "      <td>93</td>\n",
       "    </tr>\n",
       "    <tr>\n",
       "      <th>1</th>\n",
       "      <td>Alaska</td>\n",
       "      <td>8</td>\n",
       "    </tr>\n",
       "    <tr>\n",
       "      <th>2</th>\n",
       "      <td>Arizona</td>\n",
       "      <td>115</td>\n",
       "    </tr>\n",
       "    <tr>\n",
       "      <th>3</th>\n",
       "      <td>Arkansas</td>\n",
       "      <td>27</td>\n",
       "    </tr>\n",
       "    <tr>\n",
       "      <th>4</th>\n",
       "      <td>California</td>\n",
       "      <td>640</td>\n",
       "    </tr>\n",
       "    <tr>\n",
       "      <th>5</th>\n",
       "      <td>Colorado</td>\n",
       "      <td>289</td>\n",
       "    </tr>\n",
       "    <tr>\n",
       "      <th>6</th>\n",
       "      <td>Connecticut</td>\n",
       "      <td>554</td>\n",
       "    </tr>\n",
       "    <tr>\n",
       "      <th>7</th>\n",
       "      <td>Delaware</td>\n",
       "      <td>35</td>\n",
       "    </tr>\n",
       "    <tr>\n",
       "      <th>8</th>\n",
       "      <td>Diamond Princess</td>\n",
       "      <td>0</td>\n",
       "    </tr>\n",
       "    <tr>\n",
       "      <th>9</th>\n",
       "      <td>District of Columbia</td>\n",
       "      <td>50</td>\n",
       "    </tr>\n",
       "  </tbody>\n",
       "</table>\n",
       "</div>"
      ],
      "text/plain": [
       "         Province_State  Deaths\n",
       "0               Alabama      93\n",
       "1                Alaska       8\n",
       "2               Arizona     115\n",
       "3              Arkansas      27\n",
       "4            California     640\n",
       "5              Colorado     289\n",
       "6           Connecticut     554\n",
       "7              Delaware      35\n",
       "8      Diamond Princess       0\n",
       "9  District of Columbia      50"
      ]
     },
     "execution_count": 8,
     "metadata": {},
     "output_type": "execute_result"
    }
   ],
   "source": [
    "Dead_basedon_State = covid_daily_local[[\"Province_State\",\"Deaths\"]] # Get multiple cloumns \n",
    "Dead_basedon_State.head(10)"
   ]
  },
  {
   "cell_type": "markdown",
   "metadata": {},
   "source": [
    "## Plot data:\n",
    "We can use **.plot()** to plot our data"
   ]
  },
  {
   "cell_type": "code",
   "execution_count": 9,
   "metadata": {},
   "outputs": [
    {
     "data": {
      "text/plain": [
       "<matplotlib.axes._subplots.AxesSubplot at 0x116bab940>"
      ]
     },
     "execution_count": 9,
     "metadata": {},
     "output_type": "execute_result"
    },
    {
     "data": {
      "image/png": "[encoded data removed]",
      "text/plain": [
       "<Figure size 432x288 with 1 Axes>"
      ]
     },
     "metadata": {
      "needs_background": "light"
     },
     "output_type": "display_data"
    }
   ],
   "source": [
    "covid_daily_local.plot(x = \"Province_State\",y = \"Deaths\",color='red')"
   ]
  },
  {
   "cell_type": "code",
   "execution_count": 10,
   "metadata": {},
   "outputs": [
    {
     "data": {
      "text/plain": [
       "<matplotlib.axes._subplots.AxesSubplot at 0x116e9c730>"
      ]
     },
     "execution_count": 10,
     "metadata": {},
     "output_type": "execute_result"
    },
    {
     "data": {
      "image/png": "[encoded data removed]",
      "text/plain": [
       "<Figure size 432x288 with 1 Axes>"
      ]
     },
     "metadata": {
      "needs_background": "light"
     },
     "output_type": "display_data"
    }
   ],
   "source": [
    "covid_daily_report[\"Active\"].plot()"
   ]
  },
  {
   "cell_type": "markdown",
   "metadata": {},
   "source": [
    "## Delete Columns:"
   ]
  },
  {
   "cell_type": "code",
   "execution_count": 11,
   "metadata": {},
   "outputs": [
    {
     "data": {
      "text/html": [
       "<div>\n",
       "<style scoped>\n",
       "    .dataframe tbody tr th:only-of-type {\n",
       "        vertical-align: middle;\n",
       "    }\n",
       "\n",
       "    .dataframe tbody tr th {\n",
       "        vertical-align: top;\n",
       "    }\n",
       "\n",
       "    .dataframe thead th {\n",
       "        text-align: right;\n",
       "    }\n",
       "</style>\n",
       "<table border=\"1\" class=\"dataframe\">\n",
       "  <thead>\n",
       "    <tr style=\"text-align: right;\">\n",
       "      <th></th>\n",
       "      <th>Province_State</th>\n",
       "      <th>Country_Region</th>\n",
       "      <th>Last_Update</th>\n",
       "      <th>Lat</th>\n",
       "      <th>Long_</th>\n",
       "      <th>Confirmed</th>\n",
       "      <th>Deaths</th>\n",
       "      <th>Recovered</th>\n",
       "      <th>Active</th>\n",
       "      <th>FIPS</th>\n",
       "      <th>Incident_Rate</th>\n",
       "      <th>People_Tested</th>\n",
       "      <th>People_Hospitalized</th>\n",
       "      <th>Mortality_Rate</th>\n",
       "      <th>UID</th>\n",
       "      <th>ISO3</th>\n",
       "      <th>Testing_Rate</th>\n",
       "      <th>Hospitalization_Rate</th>\n",
       "    </tr>\n",
       "  </thead>\n",
       "  <tbody>\n",
       "    <tr>\n",
       "      <th>0</th>\n",
       "      <td>Alabama</td>\n",
       "      <td>US</td>\n",
       "      <td>2020-04-12 23:18:15</td>\n",
       "      <td>32.3182</td>\n",
       "      <td>-86.9023</td>\n",
       "      <td>3667</td>\n",
       "      <td>93</td>\n",
       "      <td>NaN</td>\n",
       "      <td>3470</td>\n",
       "      <td>1.0</td>\n",
       "      <td>75.988020</td>\n",
       "      <td>21583.0</td>\n",
       "      <td>437.0</td>\n",
       "      <td>2.610160</td>\n",
       "      <td>84000001</td>\n",
       "      <td>USA</td>\n",
       "      <td>460.300152</td>\n",
       "      <td>12.264945</td>\n",
       "    </tr>\n",
       "    <tr>\n",
       "      <th>1</th>\n",
       "      <td>Alaska</td>\n",
       "      <td>US</td>\n",
       "      <td>2020-04-12 23:18:15</td>\n",
       "      <td>61.3707</td>\n",
       "      <td>-152.4044</td>\n",
       "      <td>272</td>\n",
       "      <td>8</td>\n",
       "      <td>66.0</td>\n",
       "      <td>264</td>\n",
       "      <td>2.0</td>\n",
       "      <td>45.504049</td>\n",
       "      <td>8038.0</td>\n",
       "      <td>31.0</td>\n",
       "      <td>2.941176</td>\n",
       "      <td>84000002</td>\n",
       "      <td>USA</td>\n",
       "      <td>1344.711576</td>\n",
       "      <td>11.397059</td>\n",
       "    </tr>\n",
       "    <tr>\n",
       "      <th>2</th>\n",
       "      <td>Arizona</td>\n",
       "      <td>US</td>\n",
       "      <td>2020-04-12 23:18:15</td>\n",
       "      <td>33.7298</td>\n",
       "      <td>-111.4312</td>\n",
       "      <td>3542</td>\n",
       "      <td>115</td>\n",
       "      <td>NaN</td>\n",
       "      <td>3427</td>\n",
       "      <td>4.0</td>\n",
       "      <td>48.662422</td>\n",
       "      <td>42109.0</td>\n",
       "      <td>NaN</td>\n",
       "      <td>3.246753</td>\n",
       "      <td>84000004</td>\n",
       "      <td>USA</td>\n",
       "      <td>578.522286</td>\n",
       "      <td>NaN</td>\n",
       "    </tr>\n",
       "    <tr>\n",
       "      <th>3</th>\n",
       "      <td>Arkansas</td>\n",
       "      <td>US</td>\n",
       "      <td>2020-04-12 23:18:15</td>\n",
       "      <td>34.9697</td>\n",
       "      <td>-92.3731</td>\n",
       "      <td>1280</td>\n",
       "      <td>27</td>\n",
       "      <td>367.0</td>\n",
       "      <td>1253</td>\n",
       "      <td>5.0</td>\n",
       "      <td>49.439423</td>\n",
       "      <td>19722.0</td>\n",
       "      <td>130.0</td>\n",
       "      <td>2.109375</td>\n",
       "      <td>84000005</td>\n",
       "      <td>USA</td>\n",
       "      <td>761.753354</td>\n",
       "      <td>10.156250</td>\n",
       "    </tr>\n",
       "    <tr>\n",
       "      <th>4</th>\n",
       "      <td>California</td>\n",
       "      <td>US</td>\n",
       "      <td>2020-04-12 23:18:15</td>\n",
       "      <td>36.1162</td>\n",
       "      <td>-119.6816</td>\n",
       "      <td>22795</td>\n",
       "      <td>640</td>\n",
       "      <td>NaN</td>\n",
       "      <td>22155</td>\n",
       "      <td>6.0</td>\n",
       "      <td>58.137726</td>\n",
       "      <td>190328.0</td>\n",
       "      <td>5234.0</td>\n",
       "      <td>2.812020</td>\n",
       "      <td>84000006</td>\n",
       "      <td>USA</td>\n",
       "      <td>485.423869</td>\n",
       "      <td>22.961176</td>\n",
       "    </tr>\n",
       "  </tbody>\n",
       "</table>\n",
       "</div>"
      ],
      "text/plain": [
       "  Province_State Country_Region          Last_Update      Lat     Long_  \\\n",
       "0        Alabama             US  2020-04-12 23:18:15  32.3182  -86.9023   \n",
       "1         Alaska             US  2020-04-12 23:18:15  61.3707 -152.4044   \n",
       "2        Arizona             US  2020-04-12 23:18:15  33.7298 -111.4312   \n",
       "3       Arkansas             US  2020-04-12 23:18:15  34.9697  -92.3731   \n",
       "4     California             US  2020-04-12 23:18:15  36.1162 -119.6816   \n",
       "\n",
       "   Confirmed  Deaths  Recovered  Active  FIPS  Incident_Rate  People_Tested  \\\n",
       "0       3667      93        NaN    3470   1.0      75.988020        21583.0   \n",
       "1        272       8       66.0     264   2.0      45.504049         8038.0   \n",
       "2       3542     115        NaN    3427   4.0      48.662422        42109.0   \n",
       "3       1280      27      367.0    1253   5.0      49.439423        19722.0   \n",
       "4      22795     640        NaN   22155   6.0      58.137726       190328.0   \n",
       "\n",
       "   People_Hospitalized  Mortality_Rate       UID ISO3  Testing_Rate  \\\n",
       "0                437.0        2.610160  84000001  USA    460.300152   \n",
       "1                 31.0        2.941176  84000002  USA   1344.711576   \n",
       "2                  NaN        3.246753  84000004  USA    578.522286   \n",
       "3                130.0        2.109375  84000005  USA    761.753354   \n",
       "4               5234.0        2.812020  84000006  USA    485.423869   \n",
       "\n",
       "   Hospitalization_Rate  \n",
       "0             12.264945  \n",
       "1             11.397059  \n",
       "2                   NaN  \n",
       "3             10.156250  \n",
       "4             22.961176  "
      ]
     },
     "execution_count": 11,
     "metadata": {},
     "output_type": "execute_result"
    }
   ],
   "source": [
    "covid_daily_local.head()"
   ]
  },
  {
   "cell_type": "code",
   "execution_count": 12,
   "metadata": {},
   "outputs": [],
   "source": [
    "covid_daily_local.drop('Country_Region', inplace=True, axis=1) # delet Country_Region in our covid_daily_local"
   ]
  },
  {
   "cell_type": "code",
   "execution_count": 13,
   "metadata": {},
   "outputs": [
    {
     "data": {
      "text/html": [
       "<div>\n",
       "<style scoped>\n",
       "    .dataframe tbody tr th:only-of-type {\n",
       "        vertical-align: middle;\n",
       "    }\n",
       "\n",
       "    .dataframe tbody tr th {\n",
       "        vertical-align: top;\n",
       "    }\n",
       "\n",
       "    .dataframe thead th {\n",
       "        text-align: right;\n",
       "    }\n",
       "</style>\n",
       "<table border=\"1\" class=\"dataframe\">\n",
       "  <thead>\n",
       "    <tr style=\"text-align: right;\">\n",
       "      <th></th>\n",
       "      <th>Province_State</th>\n",
       "      <th>Last_Update</th>\n",
       "      <th>Lat</th>\n",
       "      <th>Long_</th>\n",
       "      <th>Confirmed</th>\n",
       "      <th>Deaths</th>\n",
       "      <th>Recovered</th>\n",
       "      <th>Active</th>\n",
       "      <th>FIPS</th>\n",
       "      <th>Incident_Rate</th>\n",
       "      <th>People_Tested</th>\n",
       "      <th>People_Hospitalized</th>\n",
       "      <th>Mortality_Rate</th>\n",
       "      <th>UID</th>\n",
       "      <th>ISO3</th>\n",
       "      <th>Testing_Rate</th>\n",
       "      <th>Hospitalization_Rate</th>\n",
       "    </tr>\n",
       "  </thead>\n",
       "  <tbody>\n",
       "    <tr>\n",
       "      <th>0</th>\n",
       "      <td>Alabama</td>\n",
       "      <td>2020-04-12 23:18:15</td>\n",
       "      <td>32.3182</td>\n",
       "      <td>-86.9023</td>\n",
       "      <td>3667</td>\n",
       "      <td>93</td>\n",
       "      <td>NaN</td>\n",
       "      <td>3470</td>\n",
       "      <td>1.0</td>\n",
       "      <td>75.988020</td>\n",
       "      <td>21583.0</td>\n",
       "      <td>437.0</td>\n",
       "      <td>2.610160</td>\n",
       "      <td>84000001</td>\n",
       "      <td>USA</td>\n",
       "      <td>460.300152</td>\n",
       "      <td>12.264945</td>\n",
       "    </tr>\n",
       "    <tr>\n",
       "      <th>1</th>\n",
       "      <td>Alaska</td>\n",
       "      <td>2020-04-12 23:18:15</td>\n",
       "      <td>61.3707</td>\n",
       "      <td>-152.4044</td>\n",
       "      <td>272</td>\n",
       "      <td>8</td>\n",
       "      <td>66.0</td>\n",
       "      <td>264</td>\n",
       "      <td>2.0</td>\n",
       "      <td>45.504049</td>\n",
       "      <td>8038.0</td>\n",
       "      <td>31.0</td>\n",
       "      <td>2.941176</td>\n",
       "      <td>84000002</td>\n",
       "      <td>USA</td>\n",
       "      <td>1344.711576</td>\n",
       "      <td>11.397059</td>\n",
       "    </tr>\n",
       "    <tr>\n",
       "      <th>2</th>\n",
       "      <td>Arizona</td>\n",
       "      <td>2020-04-12 23:18:15</td>\n",
       "      <td>33.7298</td>\n",
       "      <td>-111.4312</td>\n",
       "      <td>3542</td>\n",
       "      <td>115</td>\n",
       "      <td>NaN</td>\n",
       "      <td>3427</td>\n",
       "      <td>4.0</td>\n",
       "      <td>48.662422</td>\n",
       "      <td>42109.0</td>\n",
       "      <td>NaN</td>\n",
       "      <td>3.246753</td>\n",
       "      <td>84000004</td>\n",
       "      <td>USA</td>\n",
       "      <td>578.522286</td>\n",
       "      <td>NaN</td>\n",
       "    </tr>\n",
       "    <tr>\n",
       "      <th>3</th>\n",
       "      <td>Arkansas</td>\n",
       "      <td>2020-04-12 23:18:15</td>\n",
       "      <td>34.9697</td>\n",
       "      <td>-92.3731</td>\n",
       "      <td>1280</td>\n",
       "      <td>27</td>\n",
       "      <td>367.0</td>\n",
       "      <td>1253</td>\n",
       "      <td>5.0</td>\n",
       "      <td>49.439423</td>\n",
       "      <td>19722.0</td>\n",
       "      <td>130.0</td>\n",
       "      <td>2.109375</td>\n",
       "      <td>84000005</td>\n",
       "      <td>USA</td>\n",
       "      <td>761.753354</td>\n",
       "      <td>10.156250</td>\n",
       "    </tr>\n",
       "    <tr>\n",
       "      <th>4</th>\n",
       "      <td>California</td>\n",
       "      <td>2020-04-12 23:18:15</td>\n",
       "      <td>36.1162</td>\n",
       "      <td>-119.6816</td>\n",
       "      <td>22795</td>\n",
       "      <td>640</td>\n",
       "      <td>NaN</td>\n",
       "      <td>22155</td>\n",
       "      <td>6.0</td>\n",
       "      <td>58.137726</td>\n",
       "      <td>190328.0</td>\n",
       "      <td>5234.0</td>\n",
       "      <td>2.812020</td>\n",
       "      <td>84000006</td>\n",
       "      <td>USA</td>\n",
       "      <td>485.423869</td>\n",
       "      <td>22.961176</td>\n",
       "    </tr>\n",
       "  </tbody>\n",
       "</table>\n",
       "</div>"
      ],
      "text/plain": [
       "  Province_State          Last_Update      Lat     Long_  Confirmed  Deaths  \\\n",
       "0        Alabama  2020-04-12 23:18:15  32.3182  -86.9023       3667      93   \n",
       "1         Alaska  2020-04-12 23:18:15  61.3707 -152.4044        272       8   \n",
       "2        Arizona  2020-04-12 23:18:15  33.7298 -111.4312       3542     115   \n",
       "3       Arkansas  2020-04-12 23:18:15  34.9697  -92.3731       1280      27   \n",
       "4     California  2020-04-12 23:18:15  36.1162 -119.6816      22795     640   \n",
       "\n",
       "   Recovered  Active  FIPS  Incident_Rate  People_Tested  People_Hospitalized  \\\n",
       "0        NaN    3470   1.0      75.988020        21583.0                437.0   \n",
       "1       66.0     264   2.0      45.504049         8038.0                 31.0   \n",
       "2        NaN    3427   4.0      48.662422        42109.0                  NaN   \n",
       "3      367.0    1253   5.0      49.439423        19722.0                130.0   \n",
       "4        NaN   22155   6.0      58.137726       190328.0               5234.0   \n",
       "\n",
       "   Mortality_Rate       UID ISO3  Testing_Rate  Hospitalization_Rate  \n",
       "0        2.610160  84000001  USA    460.300152             12.264945  \n",
       "1        2.941176  84000002  USA   1344.711576             11.397059  \n",
       "2        3.246753  84000004  USA    578.522286                   NaN  \n",
       "3        2.109375  84000005  USA    761.753354             10.156250  \n",
       "4        2.812020  84000006  USA    485.423869             22.961176  "
      ]
     },
     "execution_count": 13,
     "metadata": {},
     "output_type": "execute_result"
    }
   ],
   "source": [
    "covid_daily_local.head()"
   ]
  },
  {
   "cell_type": "markdown",
   "metadata": {},
   "source": [
    "# sklearn: train_test_split"
   ]
  },
  {
   "cell_type": "markdown",
   "metadata": {},
   "source": [
    "sklearn is a machine learning library for python that models data. In order to randomly select the test and training data set, we use sklearn.model_selection.train_test_split. Let's see how this works with the following diabetic dataset. In the following section of the notebook, we split our given data sample into test sets and training sets so that we can use keras libraries to train a model for predicting if an individual is diabetic or not."
   ]
  },
  {
   "cell_type": "code",
   "execution_count": 14,
   "metadata": {},
   "outputs": [],
   "source": [
    "from sklearn.model_selection import train_test_split"
   ]
  },
  {
   "cell_type": "code",
   "execution_count": 15,
   "metadata": {},
   "outputs": [],
   "source": [
    "# [Pregnancies,Glucose,BloodPressure,DiabetesPedigreeFunction,Age,Outcome]\n",
    "data = [[6,148,72,33.6,0.627,50,1],\n",
    "        [1,85,66,26.6,0.351,31,0],\n",
    "        [8,183,64,23.3,0.672,32,1],\n",
    "        [1,89,66,28.1,0.167,21,0],\n",
    "        [0,137,40,43.1,2.288,33,1],\n",
    "        [10,101,76,32.9,0.171,63,0],\n",
    "        [2,122,70,36.8,0.340,27,0],\n",
    "        [5,121,72,26.2,0.245,30,0],\n",
    "        [1,126,60,30.1,0.349,47,1],\n",
    "        [1,93,70,30.4,0.315,23,0]]"
   ]
  },
  {
   "cell_type": "markdown",
   "metadata": {},
   "source": [
    "Assume we have this data and we wish to use it to train and test a model that predicts if an idividual has or doesn't have diabetes. In order to do this, we would need to split our data set into X: the data that doesn't contain the result of if an individual has diabetes or not and y: the result of the individual, diabetic or not."
   ]
  },
  {
   "cell_type": "code",
   "execution_count": 16,
   "metadata": {},
   "outputs": [
    {
     "name": "stdout",
     "output_type": "stream",
     "text": [
      "[1, 0, 1, 0, 1, 0, 0, 0, 1, 0]\n"
     ]
    }
   ],
   "source": [
    "X = [] # the data without the outcome \n",
    "y = [] # the outcome of the data (diabetic or not)\n",
    "for d in data:\n",
    "    X.append(d[:len(d)-1])\n",
    "    y.append(d[len(d)-1])\n",
    "print(y)"
   ]
  },
  {
   "cell_type": "markdown",
   "metadata": {},
   "source": [
    "We can randomly select from our data which element of the array to use as testing data and which one is the training data with train_test_split.\n",
    "\n",
    "`sklearn.model_selection.train_test_split(*arrays, **options)`\n",
    "\n",
    "![](Images/sklearn_tts.png)\n",
    "Let's see how the return value looks like:"
   ]
  },
  {
   "cell_type": "code",
   "execution_count": 17,
   "metadata": {},
   "outputs": [
    {
     "name": "stdout",
     "output_type": "stream",
     "text": [
      "The list that is return after calling train_test_split:\n",
      "[[[1, 93, 70, 30.4, 0.315, 23], [1, 85, 66, 26.6, 0.351, 31], [2, 122, 70, 36.8, 0.34, 27], [5, 121, 72, 26.2, 0.245, 30], [1, 89, 66, 28.1, 0.167, 21], [6, 148, 72, 33.6, 0.627, 50], [10, 101, 76, 32.9, 0.171, 63]], [[8, 183, 64, 23.3, 0.672, 32], [1, 126, 60, 30.1, 0.349, 47], [0, 137, 40, 43.1, 2.288, 33]], [0, 0, 0, 0, 0, 1, 0], [1, 1, 1]]\n",
      "\n",
      "Length of the return list: 4\n",
      "\n",
      "[[1, 93, 70, 30.4, 0.315, 23], [1, 85, 66, 26.6, 0.351, 31], [2, 122, 70, 36.8, 0.34, 27], [5, 121, 72, 26.2, 0.245, 30], [1, 89, 66, 28.1, 0.167, 21], [6, 148, 72, 33.6, 0.627, 50], [10, 101, 76, 32.9, 0.171, 63]]\n",
      "located in index: 0\n",
      "[[8, 183, 64, 23.3, 0.672, 32], [1, 126, 60, 30.1, 0.349, 47], [0, 137, 40, 43.1, 2.288, 33]]\n",
      "located in index: 1\n",
      "[0, 0, 0, 0, 0, 1, 0]\n",
      "located in index: 2\n",
      "[1, 1, 1]\n",
      "located in index: 3\n"
     ]
    }
   ],
   "source": [
    "print(\"The list that is return after calling train_test_split:\")\n",
    "print(train_test_split(X,y,test_size=0.3,random_state=0))\n",
    "print()\n",
    "\n",
    "# Because it returns a list, lets see what's inside these lists:\n",
    "ret_list = train_test_split(X,y,test_size=0.3,random_state=0)\n",
    "len_ret_list = len(ret_list)\n",
    "print(\"Length of the return list:\",len_ret_list)\n",
    "print()\n",
    "\n",
    "#lets print each item in the ret_list separately\n",
    "for index,i in enumerate(ret_list):\n",
    "    print(i)\n",
    "    print(\"located in index:\",index)"
   ]
  },
  {
   "cell_type": "code",
   "execution_count": 18,
   "metadata": {},
   "outputs": [],
   "source": [
    "X_train, X_test, y_train, y_test = train_test_split(X,y,test_size=0.3,random_state=0)"
   ]
  },
  {
   "cell_type": "markdown",
   "metadata": {},
   "source": [
    "Lets analyze what this code does. As for inputs, X is the data without the outcome and y is the outcome of the data (diabetic or not). test_size=0.3 is telling the function to split the data into 30% for testing and 70% for training. random_state=0 allows random shuffling of the data, but allows reproducibility.\n",
    "\n",
    "Because train_test_split returns a list containing train-test split of input, we can do the following: \n",
    "\n",
    "`X_train, X_test, y_train, y_test = train_test_split(X,y,test_size=0.3,random_state=0)`\n",
    "\n",
    "X_train is the list of data that is to be used to train our model and y_train is the outcome of this training set.\n",
    "\n",
    "X_test is the list of data that is to be used to test our model and y_test is the outcome of ths testing set.\n",
    "\n",
    "We now have training data set and testing data set"
   ]
  },
  {
   "cell_type": "markdown",
   "metadata": {},
   "source": [
    "# keras: sequential, optimizers"
   ]
  },
  {
   "cell_type": "markdown",
   "metadata": {},
   "source": [
    "Keras is a deep learning API written in Python, running on top of the machine learning platform TensorFlow. There are three ways to create Keras models:\n",
    "- Sequential model: very straightforward (a simple list of layers), but is limited to single-input, single-output stacks of layers \n",
    "- Functional API: which is an easy-to-use, fully-featured API that supports arbitrary model architectures.\n",
    "- Model subclassing: where you implement everything from scratch on your own\n",
    "\n",
    "In this notebook, we will focus on Sequential model to make a model that will predict if an individual is diabetic or not."
   ]
  },
  {
   "cell_type": "markdown",
   "metadata": {},
   "source": [
    "#### Sequential Class\n",
    "Sequential groups a linear stack of layers into a tf.keras.Model. Layers are the basic building blocks of neural networks in Keras. A layer consists of a tensor-in tensor-out computation function (the layer's call method) and some state, held in TensorFlow variables (the layer's weights).\n",
    "\n",
    "**Let's define a model:**"
   ]
  },
  {
   "cell_type": "code",
   "execution_count": 19,
   "metadata": {},
   "outputs": [],
   "source": [
    "import tensorflow as tf\n",
    "from tensorflow import keras\n",
    "model = keras.Sequential() # a sequential model\n",
    "\n",
    "# Now we add layers to our model\n",
    "model.add(keras.layers.Flatten(input_shape=(6,)))\n",
    "model.add(keras.layers.Dense(16, activation=tf.nn.relu))\n",
    "model.add(keras.layers.Dense(16, activation=tf.nn.relu))\n",
    "model.add(keras.layers.Dense(1, activation=tf.nn.sigmoid))"
   ]
  },
  {
   "cell_type": "markdown",
   "metadata": {},
   "source": [
    "We now have a model with 4 layers. The first layer, the input layer, has 6 nodes for each input features. From our diabetic dataset, these 6 input features are Pregnancies, Glucose, BloodPressure, DiabetesPedigreeFunction, Age.\n",
    "The 2nd and 3rd layers are hidden layers and can have arbitrary nodes, in this case 16 nodes. The activation argument is a mathematical function that the input gets fed through and outputs to the next layer. Finally the last layer, the output layer has the number of nodes that you want as output; in this case it's just one node. In this example, we wish to output a single output, the chance that an individual has diabetes. "
   ]
  },
  {
   "cell_type": "markdown",
   "metadata": {},
   "source": [
    "**Analyzing keras layers:**\n",
    "\n",
    "`keras.layers.Flatten(input_shape=(6,))`\n",
    "\n",
    "This layer turns the input data into a single array data. In our case, we have 2-D array, so it converts it to 1-D array. The input_shape=(6,) argument tells the function that we have 6 features as input.\n",
    "\n",
    "`keras.layers.Dense(16, activation=tf.nn.relu)`\n",
    "\n",
    "A densely connected layer, meaning every output of the previous layer becomes the input of each node in this layer.\n",
    "\n",
    "`keras.layers.Dense(1, activation=tf.nn.sigmoid)`\n",
    "\n",
    "Another densely connected layer such that every output of the previous layer becomes input to this layer. This time, we only have a single node for a single output.\n",
    "\n",
    "# Tensor-Flow: activation functions\n",
    "\n",
    "# Relu:\n",
    "**The rectified linear activation function** or **ReLU** for short is a piecewise linear function that will output the input directly if it is positive, otherwise, it will output zero.\n",
    "\n",
    "`# rectified linear function\n",
    "def rectified(x):\n",
    "\treturn max(0.0, x)`\n",
    "\n",
    "# Sigmoid:\n",
    "One of the many activation functions in **Tensor-Flow** is the sigmoid function which is defined as:\n",
    "\n",
    "$$f(x)=\\frac{1}{(1-e^{-x})}$$\n",
    "\n",
    "The input to the Sigmoid activation function is transformed into a value between 0.0 and 1.0. Inputs that are much larger than 1.0 are transformed to the value 1.0, similarly, values much smaller than 0.0 are snapped to 0.0."
   ]
  },
  {
   "cell_type": "code",
   "execution_count": 20,
   "metadata": {},
   "outputs": [
    {
     "data": {
      "text/plain": [
       "Text(0, 0.5, 'f(x)')"
      ]
     },
     "execution_count": 20,
     "metadata": {},
     "output_type": "execute_result"
    },
    {
     "data": {
      "image/png": "[encoded data removed]",
      "text/plain": [
       "<Figure size 432x288 with 1 Axes>"
      ]
     },
     "metadata": {
      "needs_background": "light"
     },
     "output_type": "display_data"
    }
   ],
   "source": [
    "import matplotlib.pyplot as plt\n",
    "# Initializing the input tensor \n",
    "a = tf.constant([.2, .5, .7, 1, 2, 5, 10], dtype = tf.float64)\n",
    "# calculating the sigmoid functions based on a data\n",
    "b = tf.nn.sigmoid(a, name ='sigmoid') \n",
    "\n",
    "plt.plot(a, b, color = 'green') \n",
    "plt.xlabel(\"Initilized input\")\n",
    "plt.ylabel(\"f(x)\")"
   ]
  },
  {
   "cell_type": "markdown",
   "metadata": {},
   "source": [
    "**Let's now configure our model for training**"
   ]
  },
  {
   "cell_type": "code",
   "execution_count": 21,
   "metadata": {},
   "outputs": [],
   "source": [
    "model.compile(optimizer='nadam',\n",
    "              loss='binary_crossentropy',\n",
    "              metrics=['accuracy'])"
   ]
  },
  {
   "cell_type": "markdown",
   "metadata": {},
   "source": [
    "The arguments for the compile function are as follow:\n",
    "- optimizer: String (name of optimizer) or optimizer instance. Optimizers  are algorithms or methods used to change the attributes of your neural network such as weights and learning rate in order to reduce the losses\n",
    "Available optimizers:\n",
    "    - [SGD](https://keras.io/api/optimizers/sgd/)\n",
    "    - [RMSprop](https://keras.io/api/optimizers/rmsprop/)\n",
    "    - [Adam](https://keras.io/api/optimizers/adam/)\n",
    "    - [Adadelta](https://keras.io/api/optimizers/adadelta/)\n",
    "    - [Adagrad](https://keras.io/api/optimizers/adagrad/)\n",
    "    - [Adamax](https://keras.io/api/optimizers/adamax/)\n",
    "    - [Nadam](https://keras.io/api/optimizers/Nadam/)\n",
    "    - [Ftrl](https://keras.io/api/optimizers/ftrl/)\n",
    "\n",
    "- loss: The purpose of loss functions is to compute the quantity that a model should seek to minimize during training. In our case, we use ['binary_crossentropy'](https://keras.io/api/losses/probabilistic_losses/#binarycrossentropy-class) because we only seek the loss from the true value and our predicted value.\n",
    "\n",
    "- metrics: Metrics allows us to see how well our model is doing. In our case, we want to see how accurate the model is being.\n",
    "\n",
    "**Now lets train our model with the training data set**"
   ]
  },
  {
   "cell_type": "code",
   "execution_count": 22,
   "metadata": {},
   "outputs": [
    {
     "name": "stdout",
     "output_type": "stream",
     "text": [
      "7/7 [==============================] - 0s 2ms/step - loss: 38.6148 - accuracy: 0.1429\n"
     ]
    },
    {
     "data": {
      "text/plain": [
       "<tensorflow.python.keras.callbacks.History at 0x13a565070>"
      ]
     },
     "execution_count": 22,
     "metadata": {},
     "output_type": "execute_result"
    }
   ],
   "source": [
    "model.fit(X_train,y_train,epochs=1,batch_size=1)"
   ]
  },
  {
   "cell_type": "markdown",
   "metadata": {},
   "source": [
    "The fit function trans the model for a fixed number of epochs, or number of iterations on a dataset. The function takes in more parameter which can be seen here:\n",
    "![](Images/fit_function.png)\n",
    "\n",
    "The following arguments were passed to the fit function:\n",
    "- X_train: the input data for training\n",
    "- y_train: the target data, the expected outcome\n",
    "- epochs: the number of iteration over the X_train and y_train to train the model\n",
    "- batch_size: the number gradient sample over gradient update\n",
    "\n",
    "**Now let's evaluate how well our model performed**\n",
    "\n",
    "The evaluate function returns the loss value & metrics values for the model in test mode\n",
    "![](Images/evaluate_function.png)"
   ]
  },
  {
   "cell_type": "code",
   "execution_count": 23,
   "metadata": {},
   "outputs": [
    {
     "name": "stdout",
     "output_type": "stream",
     "text": [
      "1/1 [==============================] - 0s 1ms/step - loss: 7.2310e-24 - accuracy: 1.0000\n"
     ]
    }
   ],
   "source": [
    "test_loss, test_acc = model.evaluate(X_test, y_test)"
   ]
  },
  {
   "cell_type": "markdown",
   "metadata": {},
   "source": [
    "Let's analyze our code `test_loss, test_acc = model.evaluate(X_test, y_test)`\n",
    "The evaluate function only returns test loss if no metrics is given to the configured model, therefor test_acc is the metric that we passed to compile function. Due to our very small data sample, the accuracy of the model is either 0 or 1, which is very unlikely with large data.\n"
   ]
  },
  {
   "cell_type": "code",
   "execution_count": null,
   "metadata": {},
   "outputs": [],
   "source": []
  }
 ],
 "metadata": {
  "kernelspec": {
   "display_name": "Python 3",
   "language": "python",
   "name": "python3"
  },
  "language_info": {
   "codemirror_mode": {
    "name": "ipython",
    "version": 3
   },
   "file_extension": ".py",
   "mimetype": "text/x-python",
   "name": "python",
   "nbconvert_exporter": "python",
   "pygments_lexer": "ipython3",
   "version": "3.8.3"
  }
 },
 "nbformat": 4,
 "nbformat_minor": 4
}
